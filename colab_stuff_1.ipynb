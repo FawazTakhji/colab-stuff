{
  "nbformat": 4,
  "nbformat_minor": 0,
  "metadata": {
    "colab": {
      "name": "Copy of colab stuff.ipynb",
      "provenance": [],
      "collapsed_sections": [],
      "authorship_tag": "ABX9TyN+uRAM3dIZ3KSjIKkwGL8v",
      "include_colab_link": true
    },
    "kernelspec": {
      "name": "python3",
      "display_name": "Python 3"
    }
  },
  "cells": [
    {
      "cell_type": "markdown",
      "metadata": {
        "id": "view-in-github",
        "colab_type": "text"
      },
      "source": [
        "<a href=\"https://colab.research.google.com/github/FawazTakhji/colab-stuff/blob/master/colab_stuff_1.ipynb\" target=\"_parent\"><img src=\"https://colab.research.google.com/assets/colab-badge.svg\" alt=\"Open In Colab\"/></a>"
      ]
    },
    {
      "cell_type": "code",
      "metadata": {
        "id": "isv0Dts45ESz",
        "colab_type": "code",
        "colab": {}
      },
      "source": [
        "!rclone copy \"/root/Downloads\" \"FawzyFlex:/\" --fast-list --drive-chunk-size=512M --transfers=45 --checkers=45 --buffer-size=75M -v"
      ],
      "execution_count": null,
      "outputs": []
    },
    {
      "cell_type": "code",
      "metadata": {
        "id": "ff6-PEyK5zTc",
        "colab_type": "code",
        "colab": {}
      },
      "source": [
        "!rclone copy \"/root/Downloads\" \"Homework:/\" --fast-list --drive-chunk-size=512M --transfers=45 --checkers=45 --buffer-size=75M -v"
      ],
      "execution_count": null,
      "outputs": []
    },
    {
      "cell_type": "markdown",
      "metadata": {
        "id": "V4sBUt2uGpAq",
        "colab_type": "text"
      },
      "source": [
        "# ![alt text](https://i.imgur.com/AIDgT23.png) Rclone"
      ]
    },
    {
      "cell_type": "code",
      "metadata": {
        "id": "QR5VBBp0hhIb",
        "colab_type": "code",
        "cellView": "form",
        "colab": {}
      },
      "source": [
        "#@title ⬅️ Run this cell to download rclone\n",
        "from google.colab import output\n",
        "!curl https://rclone.org/install.sh | sudo bash\n",
        "output.clear()\n",
        "!echo Download complete"
      ],
      "execution_count": null,
      "outputs": []
    },
    {
      "cell_type": "code",
      "metadata": {
        "id": "V5CbplKaGwBf",
        "colab_type": "code",
        "cellView": "form",
        "colab": {}
      },
      "source": [
        "#@title ⬅️ Copy rclone.conf to /content then run this cell to install your rclone config and if you dont have a config you can skip this cell\n",
        "%cd /root/.config/\n",
        "output.clear()\n",
        "%mkdir rclone\n",
        "output.clear()\n",
        "%cp /content/rclone.conf /root/.config/rclone\n",
        "output.clear()\n",
        "%cd ../\n",
        "output.clear()\n",
        "%cd ../\n",
        "output.clear()\n",
        "%cd ../\n",
        "output.clear()\n",
        "!echo Config installed successfully"
      ],
      "execution_count": null,
      "outputs": []
    },
    {
      "cell_type": "code",
      "metadata": {
        "id": "VoeGPDrlGzK2",
        "colab_type": "code",
        "cellView": "form",
        "colab": {}
      },
      "source": [
        "#@title ⬅️ Run this cell to download your rclone config for later use\n",
        "from google.colab import files\n",
        "files.download('/root/.config/rclone/rclone.conf')\n",
        "!echo File downloaded successfully\n"
      ],
      "execution_count": null,
      "outputs": []
    },
    {
      "cell_type": "markdown",
      "metadata": {
        "id": "fyZg4y0Zrn8z",
        "colab_type": "text"
      },
      "source": [
        "# ![alt text](http://icons.iconarchive.com/icons/papirus-team/papirus-apps/32/qbittorrent-icon.png) qBittorrent"
      ]
    },
    {
      "cell_type": "code",
      "metadata": {
        "id": "tdZ4iimtf73T",
        "colab_type": "code",
        "cellView": "form",
        "colab": {}
      },
      "source": [
        "#@title ⬅️ Run this cell to install qBittorrent\n",
        "from google.colab import output\n",
        "!npm install -g localtunnel\n",
        "output.clear()\n",
        "!apt-get install qbittorrent-nox\n",
        "output.clear()\n",
        "!echo Download complete"
      ],
      "execution_count": null,
      "outputs": []
    },
    {
      "cell_type": "code",
      "metadata": {
        "id": "lf-oE2qosD8J",
        "colab_type": "code",
        "cellView": "form",
        "colab": {}
      },
      "source": [
        "#@title ⬅️ Run this cell to start qBittorrent\n",
        "!qbittorrent-nox --webui-port=8050 --daemon\n",
        "output.clear()\n",
        "!nohup lt -h \"http://serverless.social\" -p 8050 &\n",
        "output.clear()\n",
        "!cat nohup.out\n",
        "!echo Username: admin Password: adminadmin"
      ],
      "execution_count": null,
      "outputs": []
    },
    {
      "cell_type": "markdown",
      "metadata": {
        "id": "mptW5udKamlC",
        "colab_type": "text"
      },
      "source": [
        "# ![alt text](https://imgur.com/z4SLVwa.png) Jdownloader 2"
      ]
    },
    {
      "cell_type": "code",
      "metadata": {
        "id": "6mig-5lWfqLD",
        "colab_type": "code",
        "cellView": "form",
        "colab": {}
      },
      "source": [
        "#@title ⬅️ Run this cell to download jdownloader 2\n",
        "from google.colab import output\n",
        "!wget http://installer.jdownloader.org/JDownloader.jar\n",
        "output.clear()\n",
        "!echo Download complete"
      ],
      "execution_count": null,
      "outputs": []
    },
    {
      "cell_type": "code",
      "metadata": {
        "id": "awOZh7fWcinb",
        "colab_type": "code",
        "cellView": "form",
        "colab": {}
      },
      "source": [
        "#@title ⬅️ Run this cell to start Jdownloader 2\n",
        "!java -jar JDownloader.jar -norestart\n"
      ],
      "execution_count": null,
      "outputs": []
    },
    {
      "cell_type": "code",
      "metadata": {
        "id": "4T1LeLRPgl2e",
        "colab_type": "code",
        "cellView": "form",
        "colab": {}
      },
      "source": [
        "#@title ⬅️ Run this cell to start Jdownloader 2 witn nohup and ampersand\n",
        "!nohup java -jar JDownloader.jar -norestart &"
      ],
      "execution_count": null,
      "outputs": []
    },
    {
      "cell_type": "markdown",
      "metadata": {
        "id": "q9O03vkKOpWA",
        "colab_type": "text"
      },
      "source": [
        "# ![alt text](https://imgur.com/EqMiKs7.png) Remocolab"
      ]
    },
    {
      "cell_type": "code",
      "metadata": {
        "id": "b_9ae9G2PcOX",
        "colab_type": "code",
        "cellView": "form",
        "colab": {}
      },
      "source": [
        "#@title ⬅️ Run this cell to start a vnc session you will need an ngrok account and a vnc client\n",
        "!pip install git+https://github.com/demotomohiro/remocolab.git@kaggle\n",
        "import remocolab\n",
        "remocolab.setupVNC()"
      ],
      "execution_count": null,
      "outputs": []
    },
    {
      "cell_type": "code",
      "metadata": {
        "id": "Nh3fRDJMPpHu",
        "colab_type": "code",
        "cellView": "form",
        "colab": {}
      },
      "source": [
        "#@title ⬅️ Run this cell to install chrome browser\n",
        "!wget -q -O - https://dl-ssl.google.com/linux/linux_signing_key.pub | sudo apt-key add -\n",
        "output.clear()\n",
        "!echo 'deb [arch=amd64] http://dl.google.com/linux/chrome/deb/ stable main' | sudo tee /etc/apt/sources.list.d/google-chrome.list\n",
        "output.clear()\n",
        "sudo apt-get update\n",
        "output.clear()\n",
        "sudo apt-get install google-chrome-stable\n",
        "output.clear()\n",
        "!echo Chrome installed Successfully"
      ],
      "execution_count": null,
      "outputs": []
    }
  ]
}